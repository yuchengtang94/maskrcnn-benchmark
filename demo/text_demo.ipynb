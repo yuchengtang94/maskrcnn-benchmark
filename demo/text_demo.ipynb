{
 "cells": [
  {
   "cell_type": "code",
   "execution_count": 1,
   "metadata": {},
   "outputs": [],
   "source": [
    "import requests\n",
    "from io import BytesIO\n",
    "from PIL import Image\n",
    "import numpy as np\n",
    "\n",
    "from maskrcnn_benchmark.config import cfg\n",
    "from predictor import COCODemo\n",
    "\n",
    "config_file = \"../configs/text/e2e_faster_rcnn_X_101_32x8d_FPN_pooler_lr003.yaml\"\n",
    "# update the config options with the config file\n",
    "cfg.merge_from_file(config_file)\n",
    "# manual override some options\n",
    "cfg.merge_from_list([\"MODEL.DEVICE\", \"cuda\"])"
   ]
  },
  {
   "cell_type": "code",
   "execution_count": 2,
   "metadata": {},
   "outputs": [],
   "source": [
    "coco_demo = COCODemo(\n",
    "    cfg,\n",
    "    min_image_size=800,\n",
    "    confidence_threshold=0.5,\n",
    ")"
   ]
  },
  {
   "cell_type": "code",
   "execution_count": 3,
   "metadata": {},
   "outputs": [],
   "source": [
    "def predict_result(img):\n",
    "    pil_image = Image.open(img).convert('RGB')\n",
    "    image = np.array(pil_image)[:, :, [2, 1, 0]]\n",
    "    predictions = coco_demo.compute_prediction(image)\n",
    "    top_predictions = coco_demo.select_top_predictions(predictions)\n",
    "    \n",
    "    return top_predictions"
   ]
  },
  {
   "cell_type": "code",
   "execution_count": 4,
   "metadata": {},
   "outputs": [],
   "source": [
    "img1 = '/workspace/coco_style_all_data/images/val/1492430406371.png'\n"
   ]
  },
  {
   "cell_type": "code",
   "execution_count": 6,
   "metadata": {},
   "outputs": [],
   "source": [
    "top_predictions = predict_result(img1)"
   ]
  },
  {
   "cell_type": "code",
   "execution_count": 9,
   "metadata": {},
   "outputs": [
    {
     "data": {
      "text/plain": [
       "tensor([1, 1, 1, 1, 1, 1, 2, 2, 1, 1, 1, 1, 2, 2, 2, 2, 1, 1, 1, 2, 2, 2, 1, 2,\n",
       "        2, 2, 2, 2, 2, 2, 2, 1, 2])"
      ]
     },
     "execution_count": 9,
     "metadata": {},
     "output_type": "execute_result"
    }
   ],
   "source": [
    "top_predictions.get_field('labels')"
   ]
  },
  {
   "cell_type": "code",
   "execution_count": 16,
   "metadata": {},
   "outputs": [
    {
     "data": {
      "text/plain": [
       "array([[ 33.3232  , 167.04677 , 128.67316 , 198.07886 ],\n",
       "       [ 40.25493 , 129.61311 , 180.36732 , 158.47601 ],\n",
       "       [165.24396 , 172.22481 , 276.69772 , 203.16544 ],\n",
       "       [520.66956 ,  61.491875, 617.7515  ,  95.22782 ],\n",
       "       [225.06377 , 137.83942 , 374.59125 , 166.15804 ],\n",
       "       [178.5473  ,  57.937996, 243.84561 ,  87.3599  ],\n",
       "       [204.87619 ,  97.490654, 281.77692 , 125.62093 ],\n",
       "       [397.96017 , 103.33644 , 502.14655 , 129.89343 ],\n",
       "       [303.7264  ,  61.185394, 391.26697 ,  93.39209 ],\n",
       "       [304.54553 , 177.88548 , 417.80728 , 206.54451 ],\n",
       "       [509.0326  , 142.40968 , 575.46484 , 171.1846  ],\n",
       "       [354.58063 , 102.486885, 393.52448 , 128.69722 ],\n",
       "       [510.72025 , 103.393364, 618.5331  , 130.37587 ],\n",
       "       [ 45.67994 ,  90.938705, 136.58476 , 120.827324],\n",
       "       [394.2686  ,  62.49346 , 457.01666 ,  93.95409 ],\n",
       "       [187.2354  , 133.45517 , 220.87798 , 159.6746  ],\n",
       "       [138.87968 ,  92.79126 , 173.75108 , 121.31029 ],\n",
       "       [408.06683 , 140.35641 , 449.74878 , 168.30635 ],\n",
       "       [288.5944  , 101.03163 , 323.34714 , 128.05223 ],\n",
       "       [139.809   , 168.11543 , 161.34125 , 197.03357 ],\n",
       "       [331.04205 , 101.11258 , 348.09967 , 128.50996 ],\n",
       "       [280.3462  , 174.31454 , 301.7554  , 203.13406 ],\n",
       "       [119.129295,  54.24056 , 167.62164 ,  83.99324 ],\n",
       "       [250.48703 ,  61.387802, 271.81454 ,  87.987785],\n",
       "       [279.08963 ,  62.250477, 300.2966  ,  90.75389 ],\n",
       "       [484.1168  , 140.53009 , 502.83087 , 168.54863 ],\n",
       "       [380.67194 , 138.95494 , 398.9873  , 167.56673 ],\n",
       "       [578.38916 , 141.41795 , 598.2705  , 170.70917 ],\n",
       "       [178.77441 ,  96.50118 , 196.48083 , 122.06853 ],\n",
       "       [491.64682 ,  64.17466 , 514.9554  ,  92.85673 ],\n",
       "       [456.70874 , 141.10364 , 474.37607 , 167.57838 ],\n",
       "       [603.47864 , 141.04097 , 631.12646 , 172.37431 ],\n",
       "       [465.25027 ,  64.27014 , 484.45593 ,  92.172676]], dtype=float32)"
      ]
     },
     "execution_count": 16,
     "metadata": {},
     "output_type": "execute_result"
    }
   ],
   "source": [
    "np.array(top_predictions.bbox)"
   ]
  },
  {
   "cell_type": "code",
   "execution_count": null,
   "metadata": {},
   "outputs": [],
   "source": []
  }
 ],
 "metadata": {
  "kernelspec": {
   "display_name": "Python 3",
   "language": "python",
   "name": "python3"
  },
  "language_info": {
   "codemirror_mode": {
    "name": "ipython",
    "version": 3
   },
   "file_extension": ".py",
   "mimetype": "text/x-python",
   "name": "python",
   "nbconvert_exporter": "python",
   "pygments_lexer": "ipython3",
   "version": "3.7.1"
  }
 },
 "nbformat": 4,
 "nbformat_minor": 2
}
